{
 "cells": [
  {
   "cell_type": "markdown",
   "metadata": {},
   "source": [
    "This cell is for loading the data and installing relevant librarys"
   ]
  },
  {
   "cell_type": "code",
   "execution_count": 17,
   "metadata": {},
   "outputs": [
    {
     "data": {
      "text/plain": [
       "0     $50.00\n",
       "1     $75.00\n",
       "2     $90.00\n",
       "3     $55.00\n",
       "4    $379.00\n",
       "Name: price, dtype: object"
      ]
     },
     "execution_count": 17,
     "metadata": {},
     "output_type": "execute_result"
    }
   ],
   "source": [
    "import pandas as pd\n",
    "import numpy as np\n",
    "import matplotlib.pyplot as plt\n",
    "import seaborn as sns\n",
    "\n",
    "\n",
    "file = ('/Users/olisa/Downloads/clean_df.csv') # convert to websit link later\n",
    "data = pd.read_csv(file)\n",
    "data['price'].head()"
   ]
  },
  {
   "cell_type": "code",
   "execution_count": 3,
   "metadata": {},
   "outputs": [
    {
     "name": "stdout",
     "output_type": "stream",
     "text": [
      "Index(['id', 'listing_url', 'name', 'description', 'neighborhood_overview',\n",
      "       'host_id', 'host_url', 'host_name', 'host_since', 'host_location',\n",
      "       'host_about', 'host_response_time', 'host_response_rate',\n",
      "       'host_acceptance_rate', 'host_is_superhost', 'host_picture_url',\n",
      "       'host_listings_count', 'host_total_listings_count',\n",
      "       'host_verifications', 'host_identity_verified',\n",
      "       'neighbourhood_cleansed', 'latitude', 'longitude', 'property_type',\n",
      "       'room_type', 'accommodates', 'bathrooms_text', 'bedrooms', 'beds',\n",
      "       'amenities', 'price', 'minimum_nights', 'maximum_nights',\n",
      "       'minimum_nights_avg_ntm', 'maximum_nights_avg_ntm', 'number_of_reviews',\n",
      "       'number_of_reviews_ltm', 'first_review', 'last_review',\n",
      "       'review_scores_rating', 'review_scores_accuracy',\n",
      "       'review_scores_cleanliness', 'review_scores_checkin',\n",
      "       'review_scores_communication', 'review_scores_location',\n",
      "       'review_scores_value', 'instant_bookable',\n",
      "       'calculated_host_listings_count',\n",
      "       'calculated_host_listings_count_entire_homes',\n",
      "       'calculated_host_listings_count_private_rooms',\n",
      "       'calculated_host_listings_count_shared_rooms', 'reviews_per_month'],\n",
      "      dtype='object')\n"
     ]
    }
   ],
   "source": [
    "print(data.columns)"
   ]
  },
  {
   "cell_type": "markdown",
   "metadata": {},
   "source": [
    "Next step is cleaning the dataframe and removing the colums that are not neccsary for the analysis."
   ]
  },
  {
   "cell_type": "code",
   "execution_count": 4,
   "metadata": {},
   "outputs": [
    {
     "name": "stdout",
     "output_type": "stream",
     "text": [
      "     price  review_scores_rating  review_scores_accuracy  \\\n",
      "0   $50.00                  4.90                    4.82   \n",
      "1   $75.00                  4.79                    4.84   \n",
      "2   $90.00                  4.32                    4.53   \n",
      "3   $55.00                  4.84                    4.91   \n",
      "4  $379.00                  4.74                    4.82   \n",
      "\n",
      "   review_scores_cleanliness  review_scores_checkin  \\\n",
      "0                       4.89                   4.86   \n",
      "1                       4.88                   4.87   \n",
      "2                       4.03                   4.72   \n",
      "3                       4.71                   4.93   \n",
      "4                       4.69                   4.69   \n",
      "\n",
      "   review_scores_communication  review_scores_location  review_scores_value  \n",
      "0                         4.93                    4.75                 4.82  \n",
      "1                         4.82                    4.93                 4.73  \n",
      "2                         4.86                    4.72                 4.31  \n",
      "3                         4.93                    4.92                 4.83  \n",
      "4                         4.69                    4.88                 4.59  \n"
     ]
    }
   ],
   "source": [
    "\n",
    "relevant_columns = ['price', 'review_scores_rating', 'review_scores_accuracy', 'review_scores_cleanliness', 'review_scores_checkin', 'review_scores_communication', 'review_scores_location','review_scores_value']\n",
    "subset_data = data[relevant_columns]\n",
    "\n",
    "# Display the first 5 rows of the new DataFrame\n",
    "print(subset_data.head())\n",
    "\n"
   ]
  },
  {
   "cell_type": "markdown",
   "metadata": {},
   "source": [
    "Now lets check and potentially handle any missing values and convert any datatypes if needed"
   ]
  },
  {
   "cell_type": "code",
   "execution_count": 6,
   "metadata": {},
   "outputs": [
    {
     "name": "stdout",
     "output_type": "stream",
     "text": [
      "price                           object\n",
      "review_scores_rating           float64\n",
      "review_scores_accuracy         float64\n",
      "review_scores_cleanliness      float64\n",
      "review_scores_checkin          float64\n",
      "review_scores_communication    float64\n",
      "review_scores_location         float64\n",
      "review_scores_value            float64\n",
      "dtype: object\n",
      "       price  review_scores_rating  review_scores_accuracy  \\\n",
      "0      False                 False                   False   \n",
      "1      False                 False                   False   \n",
      "2      False                 False                   False   \n",
      "3      False                 False                   False   \n",
      "4      False                 False                   False   \n",
      "...      ...                   ...                     ...   \n",
      "69346  False                 False                   False   \n",
      "69347  False                 False                   False   \n",
      "69348  False                 False                   False   \n",
      "69349  False                 False                   False   \n",
      "69350  False                 False                   False   \n",
      "\n",
      "       review_scores_cleanliness  review_scores_checkin  \\\n",
      "0                          False                  False   \n",
      "1                          False                  False   \n",
      "2                          False                  False   \n",
      "3                          False                  False   \n",
      "4                          False                  False   \n",
      "...                          ...                    ...   \n",
      "69346                      False                  False   \n",
      "69347                      False                  False   \n",
      "69348                      False                  False   \n",
      "69349                      False                  False   \n",
      "69350                      False                  False   \n",
      "\n",
      "       review_scores_communication  review_scores_location  \\\n",
      "0                            False                   False   \n",
      "1                            False                   False   \n",
      "2                            False                   False   \n",
      "3                            False                   False   \n",
      "4                            False                   False   \n",
      "...                            ...                     ...   \n",
      "69346                        False                   False   \n",
      "69347                        False                   False   \n",
      "69348                        False                   False   \n",
      "69349                        False                   False   \n",
      "69350                        False                   False   \n",
      "\n",
      "       review_scores_value  \n",
      "0                    False  \n",
      "1                    False  \n",
      "2                    False  \n",
      "3                    False  \n",
      "4                    False  \n",
      "...                    ...  \n",
      "69346                False  \n",
      "69347                False  \n",
      "69348                False  \n",
      "69349                False  \n",
      "69350                False  \n",
      "\n",
      "[69351 rows x 8 columns]\n"
     ]
    }
   ],
   "source": [
    "print(subset_data.dtypes)\n",
    "print(subset_data.isna())"
   ]
  },
  {
   "cell_type": "markdown",
   "metadata": {},
   "source": [
    "We have confirmed that there are no missing values. However price is in the wrong type so lets convert it to a neumeric one. After that we will proceed with some Descriptive statistics"
   ]
  },
  {
   "cell_type": "code",
   "execution_count": 12,
   "metadata": {},
   "outputs": [
    {
     "name": "stdout",
     "output_type": "stream",
     "text": [
      "0         50.0\n",
      "1         75.0\n",
      "2         90.0\n",
      "3         55.0\n",
      "4        379.0\n",
      "         ...  \n",
      "69346     55.0\n",
      "69347    201.0\n",
      "69348    246.0\n",
      "69349    250.0\n",
      "69350    134.0\n",
      "Name: price, Length: 69351, dtype: float64\n",
      "float64\n"
     ]
    },
    {
     "name": "stderr",
     "output_type": "stream",
     "text": [
      "/var/folders/26/p92lw58s64l1zlyt8yg13ztc0000gn/T/ipykernel_15048/4184919634.py:3: SettingWithCopyWarning: \n",
      "A value is trying to be set on a copy of a slice from a DataFrame.\n",
      "Try using .loc[row_indexer,col_indexer] = value instead\n",
      "\n",
      "See the caveats in the documentation: https://pandas.pydata.org/pandas-docs/stable/user_guide/indexing.html#returning-a-view-versus-a-copy\n",
      "  subset_data['price'] = subset_data['price'].astype(str).str.replace('$', '').astype(float)\n",
      "/var/folders/26/p92lw58s64l1zlyt8yg13ztc0000gn/T/ipykernel_15048/4184919634.py:6: FutureWarning: A value is trying to be set on a copy of a DataFrame or Series through chained assignment using an inplace method.\n",
      "The behavior will change in pandas 3.0. This inplace method will never work because the intermediate object on which we are setting values always behaves as a copy.\n",
      "\n",
      "For example, when doing 'df[col].method(value, inplace=True)', try using 'df.method({col: value}, inplace=True)' or df[col] = df[col].method(value) instead, to perform the operation inplace on the original object.\n",
      "\n",
      "\n",
      "  subset_data['price'].fillna(0, inplace=True)\n",
      "/var/folders/26/p92lw58s64l1zlyt8yg13ztc0000gn/T/ipykernel_15048/4184919634.py:6: SettingWithCopyWarning: \n",
      "A value is trying to be set on a copy of a slice from a DataFrame\n",
      "\n",
      "See the caveats in the documentation: https://pandas.pydata.org/pandas-docs/stable/user_guide/indexing.html#returning-a-view-versus-a-copy\n",
      "  subset_data['price'].fillna(0, inplace=True)\n"
     ]
    }
   ],
   "source": [
    "# Converting datatype for 'price' \n",
    "#subset_data['price'] = pd.to_numeric(subset_data['price'].str.replace('$', ' ').astype(float))\n",
    "subset_data['price'] = subset_data['price'].astype(str).str.replace('$', '').astype(float)\n",
    "\n",
    "\n",
    "subset_data['price'].fillna(0, inplace=True)\n",
    "\n",
    "print(subset_data['price'])\n",
    "print(subset_data['price'].dtypes)\n"
   ]
  },
  {
   "cell_type": "code",
   "execution_count": 15,
   "metadata": {},
   "outputs": [],
   "source": [
    "# Mean\n",
    "mean_price = subset_data['price'].mean()\n",
    "\n",
    "# Median\n",
    "median_price = subset_data['price'].median()\n",
    "\n",
    "# Standard Deviation\n",
    "std_price = subset_data['price'].std()\n",
    "\n",
    "# Minimum and Maximum\n",
    "min_price = subset_data['price'].min()\n",
    "max_price = subset_data['price'].max()\n",
    "\n",
    "# Quartiles \n",
    "q25_price = subset_data['price'].quantile(0.25)\n",
    "q75_price = subset_data['price'].quantile(0.75)\n",
    "\n",
    "\n"
   ]
  },
  {
   "cell_type": "markdown",
   "metadata": {},
   "source": [
    "# now we are going to start with data visualisation"
   ]
  },
  {
   "cell_type": "markdown",
   "metadata": {},
   "source": [
    "# Boxplot - A boxplot provides a concise summary of the distribution of the data, including measures such as the median, quartiles, and potential outliers. Here's how you can create a boxplot for the 'price' variable:"
   ]
  },
  {
   "cell_type": "code",
   "execution_count": 22,
   "metadata": {},
   "outputs": [
    {
     "name": "stderr",
     "output_type": "stream",
     "text": [
      "/var/folders/26/p92lw58s64l1zlyt8yg13ztc0000gn/T/ipykernel_15048/1978134374.py:7: UserWarning: FigureCanvasAgg is non-interactive, and thus cannot be shown\n",
      "  plt.show()\n"
     ]
    }
   ],
   "source": [
    "\n",
    "#boxplot of price distribution\n",
    "\n",
    "plt.figure(figsize=(8, 6))\n",
    "sns.boxplot(x='price', data=subset_data)\n",
    "plt.title('Boxplot of Price')\n",
    "plt.xlabel('Price')\n",
    "plt.show()\n"
   ]
  },
  {
   "cell_type": "code",
   "execution_count": null,
   "metadata": {},
   "outputs": [],
   "source": [
    "# Boxplot comparing each review score withthe listing price\n",
    "\n",
    "plt.figure(figsize=(10, 6))\n",
    "sns.boxplot(x='review_scores_cleanliness', y='price', data=subset_data, palette='pastel')\n",
    "plt.xlabel('Review Score (Cleanliness)')\n",
    "plt.ylabel('Listing Price')\n",
    "plt.title('Impact of Cleanliness Review Score on Listing Price')\n",
    "plt.show()\n"
   ]
  },
  {
   "cell_type": "markdown",
   "metadata": {},
   "source": [
    "Scatter plots vizualize the relationship between review score and price"
   ]
  },
  {
   "cell_type": "code",
   "execution_count": 24,
   "metadata": {},
   "outputs": [
    {
     "name": "stderr",
     "output_type": "stream",
     "text": [
      "/var/folders/26/p92lw58s64l1zlyt8yg13ztc0000gn/T/ipykernel_15048/1633087805.py:6: UserWarning: FigureCanvasAgg is non-interactive, and thus cannot be shown\n",
      "  plt.show()\n"
     ]
    }
   ],
   "source": [
    "plt.figure(figsize=(10, 6))\n",
    "sns.scatterplot(x='review_scores_cleanliness', y='price', data=subset_data, alpha=0.5)\n",
    "plt.xlabel('Review Score (Cleanliness)')\n",
    "plt.ylabel('Listing Price')\n",
    "plt.title('Scatter Plot: Cleanliness vs. Listing Price')\n",
    "plt.show()\n"
   ]
  },
  {
   "cell_type": "markdown",
   "metadata": {},
   "source": [
    "Histograms show us the frequency disrtibution of price"
   ]
  },
  {
   "cell_type": "code",
   "execution_count": 23,
   "metadata": {},
   "outputs": [
    {
     "name": "stderr",
     "output_type": "stream",
     "text": [
      "/var/folders/26/p92lw58s64l1zlyt8yg13ztc0000gn/T/ipykernel_15048/301942357.py:7: UserWarning: FigureCanvasAgg is non-interactive, and thus cannot be shown\n",
      "  plt.show()\n"
     ]
    }
   ],
   "source": [
    "\n",
    "plt.figure(figsize=(10, 6))\n",
    "sns.histplot(subset_data['review_scores_cleanliness'], bins=20, kde=True, color='skyblue', label='Cleanliness')\n",
    "plt.xlabel('Review Score (Cleanliness)')\n",
    "plt.ylabel('Frequency')\n",
    "plt.title('Distribution of Cleanliness Review Scores')\n",
    "plt.legend()\n",
    "plt.show()\n"
   ]
  },
  {
   "cell_type": "markdown",
   "metadata": {},
   "source": [
    "Analysis of summary statstics"
   ]
  },
  {
   "cell_type": "markdown",
   "metadata": {},
   "source": [
    "Correlation analysis - using Spearmans rank\n",
    "Spearman's rank correlation is a way to see if there's a pattern between these two factors (in this case it will be price and a review score)\n",
    "The stronger the correlation (closer to 1 or -1), the more closely review scores and prices are connected\n"
   ]
  },
  {
   "cell_type": "code",
   "execution_count": 26,
   "metadata": {},
   "outputs": [
    {
     "data": {
      "text/plain": [
       "(array([[ 1., nan, nan, nan, nan, nan, nan, nan],\n",
       "        [nan, nan, nan, nan, nan, nan, nan, nan],\n",
       "        [nan, nan, nan, nan, nan, nan, nan, nan],\n",
       "        [nan, nan, nan, nan, nan, nan, nan, nan],\n",
       "        [nan, nan, nan, nan, nan, nan, nan, nan],\n",
       "        [nan, nan, nan, nan, nan, nan, nan, nan],\n",
       "        [nan, nan, nan, nan, nan, nan, nan, nan],\n",
       "        [nan, nan, nan, nan, nan, nan, nan, nan]]),\n",
       " array([[ 0., nan, nan, nan, nan, nan, nan, nan],\n",
       "        [nan, nan, nan, nan, nan, nan, nan, nan],\n",
       "        [nan, nan, nan, nan, nan, nan, nan, nan],\n",
       "        [nan, nan, nan, nan, nan, nan, nan, nan],\n",
       "        [nan, nan, nan, nan, nan, nan, nan, nan],\n",
       "        [nan, nan, nan, nan, nan, nan, nan, nan],\n",
       "        [nan, nan, nan, nan, nan, nan, nan, nan],\n",
       "        [nan, nan, nan, nan, nan, nan, nan, nan]]))"
      ]
     },
     "execution_count": 26,
     "metadata": {},
     "output_type": "execute_result"
    }
   ],
   "source": [
    "# library needed for spearmans rank\n",
    "from scipy.stats import spearmanr\n",
    "\n",
    "spearman_corr, p_value = spearmanr(subset_data)\n",
    "\n",
    "spearman_corr, p_value"
   ]
  },
  {
   "cell_type": "code",
   "execution_count": null,
   "metadata": {},
   "outputs": [],
   "source": [
    "#Visualisation of Spearmans rank using heatmap we do this so we can look at all the different type of review scores\n",
    "plt.figure(figsize=(8, 6))\n",
    "sns.heatmap(subset_data.corr(method='spearman'), annot=True, cmap='coolwarm', fmt=\".2f\", linewidths=.5)\n",
    "plt.title(\"Spearman's Rank Correlation Matrix\")\n",
    "plt.show()\n",
    "\n"
   ]
  }
 ],
 "metadata": {
  "kernelspec": {
   "display_name": "Python 3",
   "language": "python",
   "name": "python3"
  },
  "language_info": {
   "codemirror_mode": {
    "name": "ipython",
    "version": 3
   },
   "file_extension": ".py",
   "mimetype": "text/x-python",
   "name": "python",
   "nbconvert_exporter": "python",
   "pygments_lexer": "ipython3",
   "version": "3.11.5"
  }
 },
 "nbformat": 4,
 "nbformat_minor": 2
}
