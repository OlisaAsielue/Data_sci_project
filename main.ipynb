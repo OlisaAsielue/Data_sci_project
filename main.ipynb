{
 "cells": [
  {
   "cell_type": "markdown",
   "metadata": {},
   "source": [
    "This cell is for loading the data and installing relevant librarys"
   ]
  },
  {
   "cell_type": "code",
   "execution_count": 17,
   "metadata": {},
   "outputs": [
    {
     "data": {
      "text/plain": [
       "0     $50.00\n",
       "1     $75.00\n",
       "2     $90.00\n",
       "3     $55.00\n",
       "4    $379.00\n",
       "Name: price, dtype: object"
      ]
     },
     "execution_count": 17,
     "metadata": {},
     "output_type": "execute_result"
    }
   ],
   "source": [
    "import pandas as pd\n",
    "import numpy as np\n",
    "import matplotlib.pyplot as plt\n",
    "import seaborn as sns\n",
    "\n",
    "\n",
    "file = ('/Users/olisa/Downloads/clean_df.csv') # convert to website link later\n",
    "data = pd.read_csv(file)"
   ]
  },
  {
   "cell_type": "code",
   "execution_count": 3,
   "metadata": {},
   "outputs": [
    {
     "name": "stdout",
     "output_type": "stream",
     "text": [
      "Index(['id', 'listing_url', 'name', 'description', 'neighborhood_overview',\n",
      "       'host_id', 'host_url', 'host_name', 'host_since', 'host_location',\n",
      "       'host_about', 'host_response_time', 'host_response_rate',\n",
      "       'host_acceptance_rate', 'host_is_superhost', 'host_picture_url',\n",
      "       'host_listings_count', 'host_total_listings_count',\n",
      "       'host_verifications', 'host_identity_verified',\n",
      "       'neighbourhood_cleansed', 'latitude', 'longitude', 'property_type',\n",
      "       'room_type', 'accommodates', 'bathrooms_text', 'bedrooms', 'beds',\n",
      "       'amenities', 'price', 'minimum_nights', 'maximum_nights',\n",
      "       'minimum_nights_avg_ntm', 'maximum_nights_avg_ntm', 'number_of_reviews',\n",
      "       'number_of_reviews_ltm', 'first_review', 'last_review',\n",
      "       'review_scores_rating', 'review_scores_accuracy',\n",
      "       'review_scores_cleanliness', 'review_scores_checkin',\n",
      "       'review_scores_communication', 'review_scores_location',\n",
      "       'review_scores_value', 'instant_bookable',\n",
      "       'calculated_host_listings_count',\n",
      "       'calculated_host_listings_count_entire_homes',\n",
      "       'calculated_host_listings_count_private_rooms',\n",
      "       'calculated_host_listings_count_shared_rooms', 'reviews_per_month'],\n",
      "      dtype='object')\n"
     ]
    }
   ],
   "source": [
    "print(data.columns)"
   ]
  },
  {
   "cell_type": "markdown",
   "metadata": {},
   "source": [
    "Next step is cleaning the dataframe and removing the colums that are not neccsary for the analysis."
   ]
  },
  {
   "cell_type": "code",
   "execution_count": 4,
   "metadata": {},
   "outputs": [
    {
     "name": "stdout",
     "output_type": "stream",
     "text": [
      "     price  review_scores_rating  review_scores_accuracy  \\\n",
      "0   $50.00                  4.90                    4.82   \n",
      "1   $75.00                  4.79                    4.84   \n",
      "2   $90.00                  4.32                    4.53   \n",
      "3   $55.00                  4.84                    4.91   \n",
      "4  $379.00                  4.74                    4.82   \n",
      "\n",
      "   review_scores_cleanliness  review_scores_checkin  \\\n",
      "0                       4.89                   4.86   \n",
      "1                       4.88                   4.87   \n",
      "2                       4.03                   4.72   \n",
      "3                       4.71                   4.93   \n",
      "4                       4.69                   4.69   \n",
      "\n",
      "   review_scores_communication  review_scores_location  review_scores_value  \n",
      "0                         4.93                    4.75                 4.82  \n",
      "1                         4.82                    4.93                 4.73  \n",
      "2                         4.86                    4.72                 4.31  \n",
      "3                         4.93                    4.92                 4.83  \n",
      "4                         4.69                    4.88                 4.59  \n"
     ]
    }
   ],
   "source": [
    "\n",
    "relevant_columns = ['price', 'review_scores_rating', 'review_scores_accuracy', 'review_scores_cleanliness', 'review_scores_checkin', 'review_scores_communication', 'review_scores_location','review_scores_value']\n",
    "subset_data = data[relevant_columns]\n",
    "\n",
    "# Display the first 5 rows of the new DataFrame\n",
    "print(subset_data.head())\n",
    "\n"
   ]
  },
  {
   "cell_type": "markdown",
   "metadata": {},
   "source": [
    "Now lets check and potentially handle any missing values and convert any datatypes if needed"
   ]
  },
  {
   "cell_type": "code",
   "execution_count": 27,
   "metadata": {},
   "outputs": [
    {
     "name": "stdout",
     "output_type": "stream",
     "text": [
      "price                          float64\n",
      "review_scores_rating           float64\n",
      "review_scores_accuracy         float64\n",
      "review_scores_cleanliness      float64\n",
      "review_scores_checkin          float64\n",
      "review_scores_communication    float64\n",
      "review_scores_location         float64\n",
      "review_scores_value            float64\n",
      "dtype: object\n",
      "price                              0\n",
      "review_scores_rating           16785\n",
      "review_scores_accuracy         17807\n",
      "review_scores_cleanliness      17794\n",
      "review_scores_checkin          17841\n",
      "review_scores_communication    17808\n",
      "review_scores_location         17839\n",
      "review_scores_value            17842\n",
      "dtype: int64\n"
     ]
    }
   ],
   "source": [
    "print(subset_data.dtypes)\n",
    "print(subset_data.isna().sum(axis=0))"
   ]
  },
  {
   "cell_type": "markdown",
   "metadata": {},
   "source": [
    "We have confirmed that there are some missing values so we will need to fix that. In addition price is in the wrong type so lets convert it to a neumeric one. After that we will proceed with some Descriptive statistics"
   ]
  },
  {
   "cell_type": "code",
   "execution_count": 28,
   "metadata": {},
   "outputs": [],
   "source": [
    "# As there are a significant amount of missing values for the review score we will have to 'drop' thiese rows from the dataframe entirely\n",
    "\n",
    "subset_data = subset_data.dropna()"
   ]
  },
  {
   "cell_type": "code",
   "execution_count": 30,
   "metadata": {},
   "outputs": [
    {
     "name": "stdout",
     "output_type": "stream",
     "text": [
      "0         50.0\n",
      "1         75.0\n",
      "2         90.0\n",
      "3         55.0\n",
      "4        379.0\n",
      "         ...  \n",
      "69346     55.0\n",
      "69347    201.0\n",
      "69348    246.0\n",
      "69349    250.0\n",
      "69350    134.0\n",
      "Name: price, Length: 51505, dtype: float64\n",
      "float64\n"
     ]
    }
   ],
   "source": [
    "# Converting datatype for 'price' \n",
    "subset_data['price'] = subset_data['price'].astype(str).str.replace('$', '').astype(float)\n",
    "\n",
    "print(subset_data['price'])\n",
    "print(subset_data['price'].dtypes)\n"
   ]
  },
  {
   "cell_type": "code",
   "execution_count": 40,
   "metadata": {},
   "outputs": [
    {
     "name": "stdout",
     "output_type": "stream",
     "text": [
      "('mean = ', 134.02898184642268)\n",
      "('median = ', 96.0)\n",
      "('standard deviation = ', 125.55085686084625)\n",
      "('min = ', 0.0)\n",
      "('max = ', 999.0)\n",
      "('q25 = ', 55.0)\n",
      "('q25 = ', 165.0)\n"
     ]
    }
   ],
   "source": [
    "# Mean\n",
    "mean_price = subset_data['price'].mean()\n",
    "\n",
    "# Median\n",
    "median_price = subset_data['price'].median()\n",
    "\n",
    "# Standard Deviation\n",
    "std_price = subset_data['price'].std()\n",
    "\n",
    "# Minimum and Maximum\n",
    "min_price = subset_data['price'].min()\n",
    "max_price = subset_data['price'].max()\n",
    "\n",
    "# Quartiles \n",
    "q25_price = subset_data['price'].quantile(0.25)\n",
    "q75_price = subset_data['price'].quantile(0.75)\n",
    "\n",
    "i = 0\n",
    "summ_stats = [('mean = ', mean_price), ('median = ', median_price),('standard deviation = ', std_price),('min = ' , min_price), ('max = ' , max_price), ('q25 = ' , q25_price), ('q25 = ', q75_price)]\n",
    "while(i < 7):\n",
    "    print(summ_stats[i])\n",
    "    i += 1"
   ]
  },
  {
   "cell_type": "markdown",
   "metadata": {},
   "source": [
    "these stats on there own are not very useful so lets do some more work"
   ]
  },
  {
   "cell_type": "markdown",
   "metadata": {},
   "source": [
    "# now we are going to start with data visualisation"
   ]
  },
  {
   "cell_type": "markdown",
   "metadata": {},
   "source": [
    "# Boxplot - A boxplot provides a concise summary of the distribution of the data, including measures such as the median, quartiles, and potential outliers. Here's how you can create a boxplot for the 'price' variable:"
   ]
  },
  {
   "cell_type": "code",
   "execution_count": 32,
   "metadata": {},
   "outputs": [
    {
     "name": "stderr",
     "output_type": "stream",
     "text": [
      "/var/folders/26/p92lw58s64l1zlyt8yg13ztc0000gn/T/ipykernel_15048/1660440810.py:7: UserWarning: FigureCanvasAgg is non-interactive, and thus cannot be shown\n",
      "  plt.show()\n"
     ]
    }
   ],
   "source": [
    "\n",
    "#boxplot of price distribution\n",
    "\n",
    "plt.figure(figsize=(8, 6))\n",
    "sns.boxplot(x='price', data=subset_data)\n",
    "plt.title('Boxplot of Price')\n",
    "plt.xlabel('Price')\n",
    "plt.show()\n"
   ]
  },
  {
   "cell_type": "code",
   "execution_count": 42,
   "metadata": {},
   "outputs": [
    {
     "name": "stderr",
     "output_type": "stream",
     "text": [
      "/var/folders/26/p92lw58s64l1zlyt8yg13ztc0000gn/T/ipykernel_15048/3901070994.py:12: FutureWarning: \n",
      "\n",
      "Passing `palette` without assigning `hue` is deprecated and will be removed in v0.14.0. Assign the `x` variable to `hue` and set `legend=False` for the same effect.\n",
      "\n",
      "  sns.boxplot(x=score, y='price', data=subset_data, palette='pastel')\n",
      "/var/folders/26/p92lw58s64l1zlyt8yg13ztc0000gn/T/ipykernel_15048/3901070994.py:17: UserWarning: FigureCanvasAgg is non-interactive, and thus cannot be shown\n",
      "  plt.show()\n",
      "/var/folders/26/p92lw58s64l1zlyt8yg13ztc0000gn/T/ipykernel_15048/3901070994.py:12: FutureWarning: \n",
      "\n",
      "Passing `palette` without assigning `hue` is deprecated and will be removed in v0.14.0. Assign the `x` variable to `hue` and set `legend=False` for the same effect.\n",
      "\n",
      "  sns.boxplot(x=score, y='price', data=subset_data, palette='pastel')\n",
      "/var/folders/26/p92lw58s64l1zlyt8yg13ztc0000gn/T/ipykernel_15048/3901070994.py:17: UserWarning: FigureCanvasAgg is non-interactive, and thus cannot be shown\n",
      "  plt.show()\n",
      "/var/folders/26/p92lw58s64l1zlyt8yg13ztc0000gn/T/ipykernel_15048/3901070994.py:12: FutureWarning: \n",
      "\n",
      "Passing `palette` without assigning `hue` is deprecated and will be removed in v0.14.0. Assign the `x` variable to `hue` and set `legend=False` for the same effect.\n",
      "\n",
      "  sns.boxplot(x=score, y='price', data=subset_data, palette='pastel')\n",
      "/var/folders/26/p92lw58s64l1zlyt8yg13ztc0000gn/T/ipykernel_15048/3901070994.py:17: UserWarning: FigureCanvasAgg is non-interactive, and thus cannot be shown\n",
      "  plt.show()\n",
      "/var/folders/26/p92lw58s64l1zlyt8yg13ztc0000gn/T/ipykernel_15048/3901070994.py:12: FutureWarning: \n",
      "\n",
      "Passing `palette` without assigning `hue` is deprecated and will be removed in v0.14.0. Assign the `x` variable to `hue` and set `legend=False` for the same effect.\n",
      "\n",
      "  sns.boxplot(x=score, y='price', data=subset_data, palette='pastel')\n",
      "/var/folders/26/p92lw58s64l1zlyt8yg13ztc0000gn/T/ipykernel_15048/3901070994.py:17: UserWarning: FigureCanvasAgg is non-interactive, and thus cannot be shown\n",
      "  plt.show()\n"
     ]
    }
   ],
   "source": [
    "# Boxplots comparing each review score with the listing price\n",
    "\n",
    "plt.figure(figsize=(10, 6))\n",
    "\n",
    "review_scores = ['review_scores_rating', 'review_scores_accuracy', 'review_scores_cleanliness', 'review_scores_checkin']\n",
    "\n",
    "plt.figure(figsize=(10, 6))\n",
    "\n",
    "review_scores = ['review_scores_rating', 'review_scores_accuracy', 'review_scores_cleanliness', 'review_scores_checkin']\n",
    "\n",
    "for score in review_scores:\n",
    "    sns.boxplot(x=score, y='price', data=subset_data, palette='pastel')\n",
    "    plt.xlabel(f'Review Score ({score.replace(\"review_scores_\", \"\")})')\n",
    "    plt.ylabel('Listing Price')\n",
    "    plt.title(f'Impact of {score} on Listing Price')\n",
    "    plt.tight_layout()\n",
    "    plt.show()"
   ]
  },
  {
   "cell_type": "markdown",
   "metadata": {},
   "source": [
    "Scatter plots vizualize the relationship between review score and price"
   ]
  },
  {
   "cell_type": "code",
   "execution_count": 34,
   "metadata": {},
   "outputs": [
    {
     "name": "stderr",
     "output_type": "stream",
     "text": [
      "/var/folders/26/p92lw58s64l1zlyt8yg13ztc0000gn/T/ipykernel_15048/1633087805.py:6: UserWarning: FigureCanvasAgg is non-interactive, and thus cannot be shown\n",
      "  plt.show()\n"
     ]
    }
   ],
   "source": [
    "plt.figure(figsize=(10, 6))\n",
    "\n",
    "review_scores = ['review_scores_rating', 'review_scores_accuracy', 'review_scores_cleanliness', 'review_scores_checkin']\n",
    "\n",
    "for score in review_scores:\n",
    "    sns.scatterplot(x=score, y='price', data=subset_data, palette='pastel')\n",
    "    plt.xlabel(f'Review Score ({score.replace(\"review_scores_\", \"\")})')\n",
    "    plt.ylabel('Listing Price')\n",
    "    plt.title(f'Impact of {score} on Listing Price')\n",
    "    plt.tight_layout()\n",
    "    plt.show()\n"
   ]
  },
  {
   "cell_type": "markdown",
   "metadata": {},
   "source": [
    "Histograms show us the frequency distribution of the given variable"
   ]
  },
  {
   "cell_type": "code",
   "execution_count": 35,
   "metadata": {},
   "outputs": [
    {
     "name": "stderr",
     "output_type": "stream",
     "text": [
      "/var/folders/26/p92lw58s64l1zlyt8yg13ztc0000gn/T/ipykernel_15048/301942357.py:7: UserWarning: FigureCanvasAgg is non-interactive, and thus cannot be shown\n",
      "  plt.show()\n"
     ]
    }
   ],
   "source": [
    "\n",
    "plt.figure(figsize=(10, 6))\n",
    "\n",
    "review_scores = ['review_scores_rating', 'review_scores_accuracy', 'review_scores_cleanliness', 'review_scores_checkin']\n",
    "\n",
    "for score in review_scores:\n",
    "    sns.histplot(x=score, data=subset_data, bins=10, palette='pastel')\n",
    "    plt.xlabel(f'Review Score ({score.replace(\"review_scores_\", \"\")})')\n",
    "    plt.ylabel('Count')\n",
    "    plt.title(f'Distribution of {score}')\n",
    "    plt.tight_layout()\n",
    "    plt.show()\n"
   ]
  },
  {
   "cell_type": "markdown",
   "metadata": {},
   "source": [
    "Analysis of summary statstics"
   ]
  },
  {
   "cell_type": "markdown",
   "metadata": {},
   "source": [
    "Correlation analysis - using Spearmans rank\n",
    "Spearman's rank correlation is a way to see if there's a pattern between these two factors (in this case it will be price and a review score)\n",
    "The stronger the correlation (closer to 1 or -1), the more closely review scores and prices are connected\n"
   ]
  },
  {
   "cell_type": "code",
   "execution_count": 36,
   "metadata": {},
   "outputs": [
    {
     "data": {
      "text/plain": [
       "(array([[ 1.        , -0.00249532, -0.03312067,  0.02690851, -0.04873188,\n",
       "         -0.04677633,  0.13709622, -0.14556721],\n",
       "        [-0.00249532,  1.        ,  0.72843649,  0.68304559,  0.58516083,\n",
       "          0.61943917,  0.44517048,  0.70609842],\n",
       "        [-0.03312067,  0.72843649,  1.        ,  0.62221426,  0.59373291,\n",
       "          0.60645734,  0.42610174,  0.65170658],\n",
       "        [ 0.02690851,  0.68304559,  0.62221426,  1.        ,  0.47020641,\n",
       "          0.4785166 ,  0.36416713,  0.57820758],\n",
       "        [-0.04873188,  0.58516083,  0.59373291,  0.47020641,  1.        ,\n",
       "          0.67544983,  0.39614676,  0.52656025],\n",
       "        [-0.04677633,  0.61943917,  0.60645734,  0.4785166 ,  0.67544983,\n",
       "          1.        ,  0.3955357 ,  0.54930209],\n",
       "        [ 0.13709622,  0.44517048,  0.42610174,  0.36416713,  0.39614676,\n",
       "          0.3955357 ,  1.        ,  0.43251218],\n",
       "        [-0.14556721,  0.70609842,  0.65170658,  0.57820758,  0.52656025,\n",
       "          0.54930209,  0.43251218,  1.        ]]),\n",
       " array([[0.00000000e+000, 5.71194572e-001, 5.53995451e-014,\n",
       "         1.01034950e-009, 1.83678845e-028, 2.37208680e-026,\n",
       "         1.60540089e-214, 7.15335164e-242],\n",
       "        [5.71194572e-001, 0.00000000e+000, 0.00000000e+000,\n",
       "         0.00000000e+000, 0.00000000e+000, 0.00000000e+000,\n",
       "         0.00000000e+000, 0.00000000e+000],\n",
       "        [5.53995451e-014, 0.00000000e+000, 0.00000000e+000,\n",
       "         0.00000000e+000, 0.00000000e+000, 0.00000000e+000,\n",
       "         0.00000000e+000, 0.00000000e+000],\n",
       "        [1.01034950e-009, 0.00000000e+000, 0.00000000e+000,\n",
       "         0.00000000e+000, 0.00000000e+000, 0.00000000e+000,\n",
       "         0.00000000e+000, 0.00000000e+000],\n",
       "        [1.83678845e-028, 0.00000000e+000, 0.00000000e+000,\n",
       "         0.00000000e+000, 0.00000000e+000, 0.00000000e+000,\n",
       "         0.00000000e+000, 0.00000000e+000],\n",
       "        [2.37208680e-026, 0.00000000e+000, 0.00000000e+000,\n",
       "         0.00000000e+000, 0.00000000e+000, 0.00000000e+000,\n",
       "         0.00000000e+000, 0.00000000e+000],\n",
       "        [1.60540089e-214, 0.00000000e+000, 0.00000000e+000,\n",
       "         0.00000000e+000, 0.00000000e+000, 0.00000000e+000,\n",
       "         0.00000000e+000, 0.00000000e+000],\n",
       "        [7.15335164e-242, 0.00000000e+000, 0.00000000e+000,\n",
       "         0.00000000e+000, 0.00000000e+000, 0.00000000e+000,\n",
       "         0.00000000e+000, 0.00000000e+000]]))"
      ]
     },
     "execution_count": 36,
     "metadata": {},
     "output_type": "execute_result"
    }
   ],
   "source": [
    "# library needed for spearmans rank\n",
    "from scipy.stats import spearmanr\n",
    "\n",
    "spearman_corr, p_value = spearmanr(subset_data)\n",
    "\n",
    "spearman_corr, p_value"
   ]
  },
  {
   "cell_type": "code",
   "execution_count": 37,
   "metadata": {},
   "outputs": [
    {
     "name": "stderr",
     "output_type": "stream",
     "text": [
      "/var/folders/26/p92lw58s64l1zlyt8yg13ztc0000gn/T/ipykernel_15048/1284917966.py:5: UserWarning: FigureCanvasAgg is non-interactive, and thus cannot be shown\n",
      "  plt.show()\n"
     ]
    }
   ],
   "source": [
    "#Visualisation of Spearmans rank using heatmap we do this so we can look at all the different type of review scores\n",
    "plt.figure(figsize=(8, 6))\n",
    "sns.heatmap(subset_data.corr(method='spearman'), annot=True, cmap='coolwarm', fmt=\".2f\", linewidths=.5)\n",
    "plt.title(\"Spearman's Rank Correlation Matrix\")\n",
    "plt.show()\n",
    "\n"
   ]
  },
  {
   "cell_type": "markdown",
   "metadata": {},
   "source": [
    "Analysis of spearmann rank"
   ]
  },
  {
   "cell_type": "markdown",
   "metadata": {},
   "source": [
    "Linear regression is a commonly used statistical technique for modeling the relationship between one or more independent variables (predictors) and a continuous dependent variable (outcome).\n",
    "\n",
    "multiple linear regression is more appropriate than simple linear regression because we are interested in assessing the combined impact of multiple factors (review scores for cleanliness, location, and communication) on listing prices. By using multiple linear regression, we can analyze how these review scores collectively influence listing prices while controlling for other variables. This approach allows for a more comprehensive understanding of the relationship between review scores and prices, accounting for potential interactions or confounding effects between predictors.\n"
   ]
  },
  {
   "cell_type": "code",
   "execution_count": null,
   "metadata": {},
   "outputs": [],
   "source": []
  }
 ],
 "metadata": {
  "kernelspec": {
   "display_name": "Python 3",
   "language": "python",
   "name": "python3"
  },
  "language_info": {
   "codemirror_mode": {
    "name": "ipython",
    "version": 3
   },
   "file_extension": ".py",
   "mimetype": "text/x-python",
   "name": "python",
   "nbconvert_exporter": "python",
   "pygments_lexer": "ipython3",
   "version": "3.11.5"
  }
 },
 "nbformat": 4,
 "nbformat_minor": 2
}
